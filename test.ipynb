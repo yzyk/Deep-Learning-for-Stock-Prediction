{
 "cells": [
  {
   "cell_type": "code",
   "execution_count": 1,
   "id": "9ac9138f",
   "metadata": {
    "ExecuteTime": {
     "end_time": "2021-12-15T19:34:16.125409Z",
     "start_time": "2021-12-15T19:34:13.241641Z"
    },
    "code_folding": [
     25,
     33,
     56
    ]
   },
   "outputs": [],
   "source": [
    "import warnings\n",
    "import os\n",
    "import IPython\n",
    "import pickle\n",
    "\n",
    "import numpy as np\n",
    "import pandas as pd\n",
    "import matplotlib.pyplot as plt\n",
    "\n",
    "import sklearn\n",
    "from sklearn.metrics import *\n",
    "from sklearn.preprocessing import StandardScaler\n",
    "from sklearn.pipeline import Pipeline\n",
    "\n",
    "import tensorflow as tf\n",
    "import keras_tuner as kt\n",
    "\n",
    "error = 'mean_squared_error'\n",
    "warnings.filterwarnings(\"ignore\")\n",
    "data_path = './Data/data'\n",
    "train_path = './Data/train'\n",
    "valid_path = './Data/valid'\n",
    "test_path = './Data/test'\n",
    "ERROR = 'mean_squared_error'\n",
    "\n",
    "def performance_measure(y_true, y_pred):\n",
    "    m_ = eval(error)\n",
    "    print('weighted_{}: {:.5f}'.format(\n",
    "        error, m_(y_true, y_pred, sample_weight=abs(y_true) / np.sum(abs(y_true)))\n",
    "    )\n",
    "         )\n",
    "    return m_(y_true, y_pred, sample_weight=abs(y_true) / np.sum(abs(y_true)))\n",
    "\n",
    "def simulation(y_true, y_pred, ids, ax=None, title=''):\n",
    "    \n",
    "    y_true = y_true.reshape(-1)\n",
    "    y_pred = y_pred.reshape(-1)\n",
    "        \n",
    "    scheme = y_pred.copy()\n",
    "    \n",
    "    scheme = np.where(scheme < 0, -1, scheme)\n",
    "    scheme = np.where(scheme == 0, 0, scheme)\n",
    "    scheme = np.where(scheme > 0, 1, scheme)\n",
    "    \n",
    "    daily_returns = scheme * y_true\n",
    "    cum_returns = np.cumprod(1.0 + daily_returns)\n",
    "    sharpe = np.mean(daily_returns) / np.std(daily_returns)\n",
    "    \n",
    "    if ax is None:\n",
    "        plt.plot(ids, cum_returns)\n",
    "        plt.title(title + ' sharpe ratio = {:.5f}'.format(sharpe))\n",
    "    else:\n",
    "        ax.plot(ids, cum_returns)\n",
    "        ax.set_title(title + ' sharpe ratio = {:.5f}'.format(sharpe))\n",
    "    return sharpe\n",
    "\n",
    "class DataPipe:\n",
    "    \n",
    "    def __init__(self, all_stocks_):\n",
    "        self.all_stocks = all_stocks_\n",
    "        self.data_window_size = 60\n",
    "        self.data_df = None\n",
    "        self.transformers = Pipeline(steps=[\n",
    "            ('scaler', StandardScaler())\n",
    "        ])\n",
    "        self.transformers_file = './final_model/transformers.txt'\n",
    "    \n",
    "    def train(self, train_path_):\n",
    "        self._getData(train_path_)\n",
    "        self._generateFeatures()\n",
    "        X_train_stack_ = np.array([])\n",
    "        y_train_stack_ = np.array([])\n",
    "        ids_train_stack_ = np.array([])\n",
    "        for stock_ in self.all_stocks:\n",
    "            X_train_, y_train_, ids_train_ = self._extractStock(stock_)\n",
    "            self.transformers.fit(X_train_)\n",
    "            #####\n",
    "            if stock_ == 'AAPL':\n",
    "                self._save_transformers()\n",
    "            #####\n",
    "            X_train_ = self.transformers.transform(X_train_)\n",
    "            X_train_, y_train_, ids_train_ = self._generateDataWindow(X_train_, y_train_, ids_train_)\n",
    "            if stock_ == self.all_stocks[0]:\n",
    "                X_train_stack_ = X_train_\n",
    "                y_train_stack_ = y_train_\n",
    "                ids_train_stack_ = ids_train_\n",
    "            else:\n",
    "                X_train_stack_ = np.vstack((X_train_stack_, X_train_))\n",
    "                y_train_stack_ = np.hstack((y_train_stack_, y_train_))\n",
    "                ids_train_stack_ = np.hstack((ids_train_stack_, ids_train_))\n",
    "        print('Windowed X_train shape: ', X_train_stack_.shape)\n",
    "        print('Windowed y_train shape: ', y_train_stack_.shape)\n",
    "        return X_train_stack_, y_train_stack_, ids_train_stack_\n",
    "\n",
    "    def val(self, valid_path_):\n",
    "        self._getData(valid_path_)\n",
    "        self._generateFeatures()\n",
    "        \n",
    "        X_valid_, y_valid_, ids_valid_ = self._extractStock('AAPL')\n",
    "        #####\n",
    "        self._load_transformers()\n",
    "        #####\n",
    "        X_valid_ = self.transformers.transform(X_valid_)\n",
    "        X_valid_, y_valid_, ids_valid_ = self._generateDataWindow(X_valid_, y_valid_, ids_valid_)\n",
    "        print('Windowed X_valid shape: ', X_valid_.shape)\n",
    "        print('Windowed y_valid shape: ', y_valid_.shape)\n",
    "        return X_valid_, y_valid_, ids_valid_\n",
    "    \n",
    "    def test(self, test_path_):\n",
    "        self._getData(test_path_)\n",
    "        self._generateFeatures()\n",
    "        X_test_, y_test_, ids_test_ = self._extractStock('AAPL') \n",
    "        #####\n",
    "        self._load_transformers()\n",
    "        #####\n",
    "        X_test_ = self.transformers.transform(X_test_)\n",
    "        X_test_, y_test_, ids_test_ = self._generateDataWindow(X_test_, y_test_, ids_test_)\n",
    "        \n",
    "        print('Windowed X_test shape: ', X_test_.shape)\n",
    "        print('Windowed y_test shape: ', y_test_.shape)\n",
    "        return X_test_, y_test_, ids_test_\n",
    "        \n",
    "    \n",
    "    def _getData(self, path_):\n",
    "        \n",
    "        for stock_ in self.all_stocks:\n",
    "            d_ = pd.read_csv(path_ + '/{}.csv'.format(stock_))\n",
    "            d_['return'] = d_['Close'].pct_change()\n",
    "            d_['Dt'] = pd.to_datetime(d_['Dt'])\n",
    "            d_.columns = [d_.columns[0]] + [stock_ + '_' + i for i in d_.columns[1:]]\n",
    "            if stock_ == self.all_stocks[0]:\n",
    "                self.data_df = d_\n",
    "            else:\n",
    "                self.data_df = pd.merge(self.data_df, d_, how='left', left_on='Dt', right_on='Dt')\n",
    "\n",
    "        self.data_df = self.data_df.set_index('Dt')\n",
    "        pass\n",
    "    \n",
    "    def _generateFeatures(self):\n",
    "        \n",
    "        self.data_df['day_of_week'] = self.data_df.index.dayofweek\n",
    "        self.data_df['week'] = self.data_df.index.isocalendar().week\n",
    "        self.data_df['month'] = self.data_df.index.month\n",
    "        \n",
    "        indices_ = self.data_df['day_of_week'].values\n",
    "        depth_ = 5\n",
    "        ohe_col_name_ = ['IS_DAY' + str(i + 1) + '(t)' for i in range(depth_)]\n",
    "        self.data_df[ohe_col_name_] = tf.one_hot(indices_, depth_).numpy()\n",
    "\n",
    "        indices_ = self.data_df['week'].values - 1\n",
    "        depth_ = 52\n",
    "        ohe_col_name_ = ['IS_WEEK' + str(i + 1) + '(t)' for i in range(depth_)]\n",
    "        self.data_df[ohe_col_name_] = tf.one_hot(indices_, depth_).numpy()\n",
    "\n",
    "        indices_ = self.data_df['month'].values - 1\n",
    "        depth_ = 12\n",
    "        ohe_col_name_ = ['IS_MONTH' + str(i + 1) + '(t)' for i in range(depth_)]\n",
    "        self.data_df[ohe_col_name_] = tf.one_hot(indices_, depth_).numpy()\n",
    "    \n",
    "        for stock_ in self.all_stocks:\n",
    "            self.data_df[stock_ + '_Close(t-1)'] = self.data_df[stock_ + '_Close'].shift(1)\n",
    "            self.data_df[stock_ + '_Volume(t-1)'] = self.data_df[stock_ + '_Volume'].shift(1)\n",
    "            self.data_df[stock_ + '_return(t-1)'] = self.data_df[stock_ + '_return'].shift(1)\n",
    "\n",
    "            self.data_df[stock_ + '_STD(5)'] = self.data_df[stock_ + '_Close(t-1)'].rolling(5).std()\n",
    "            self.data_df[stock_ + '_MA(5)'] = self.data_df[stock_ + '_Close(t-1)'].rolling(5).mean()\n",
    "            self.data_df[stock_ + '_BIAS(5)'] = self.data_df[stock_ + '_Close(t-1)'] * (\n",
    "                (self.data_df[stock_ + '_Close(t-1)'] - self.data_df[stock_ + '_MA(5)']) / self.data_df[stock_ + '_MA(5)']\n",
    "            ) * 100\n",
    "\n",
    "        pass\n",
    "    \n",
    "    def _extractStock(self, this_stock_):\n",
    "        data_df_ = self.data_df.copy()\n",
    "        data_df_ = data_df_[[this_stock_ + '_return'] + [i for i in data_df_.columns if '(' in i]]\n",
    "        \n",
    "        for ben_stock_ in self.all_stocks:\n",
    "            if this_stock_ == ben_stock_:\n",
    "                data_df_['corr_with_' + ben_stock_] = 1\n",
    "            else:\n",
    "                data_df_['corr_with_' + ben_stock_] = data_df_[\n",
    "                    [this_stock_ + '_Close(t-1)', ben_stock_ + '_Close(t-1)']\n",
    "                ].rolling(5).corr().loc[(slice(None), this_stock_ + '_Close(t-1)'), ben_stock_ + '_Close(t-1)'].values\n",
    "        \n",
    "        data_df_ = data_df_.iloc[5:, :]\n",
    "        \n",
    "        assert data_df_.isna().sum().sum() == 0\n",
    "        return data_df_.drop(this_stock_ + '_return', axis=1).values, data_df_[this_stock_ + '_return'].values, data_df_.index.values\n",
    "    \n",
    "    def _generateDataWindow(self, X_train_, y_train_, ids_train_):\n",
    "        data_window_size_ = self.data_window_size\n",
    "        \n",
    "        num_samples_ = X_train_.shape[0] - data_window_size_ + 1\n",
    "        start_index_ = data_window_size_ - 1\n",
    "        num_features_ = X_train_.shape[1]\n",
    "\n",
    "        X_train_windowed_ = np.zeros(shape=(num_samples_, data_window_size_, num_features_))\n",
    "\n",
    "        for i_ in range(start_index_, X_train_.shape[0]):\n",
    "            X_train_windowed_[i_ - data_window_size_ + 1, :, :] = X_train_[i_ - data_window_size_ + 1: i_ + 1, :]\n",
    "\n",
    "        y_train_windowed_ = y_train_[start_index_:]\n",
    "        ids_train_windowed_ = ids_train_[start_index_:]\n",
    "\n",
    "        X_train_ = X_train_windowed_\n",
    "        y_train_ = y_train_windowed_\n",
    "        ids_train_ = ids_train_windowed_\n",
    "        return X_train_, y_train_, ids_train_\n",
    "    \n",
    "    def _save_transformers(self):\n",
    "        f = open(self.transformers_file, 'wb')\n",
    "        pickle.dump(self.transformers, f)\n",
    "        f.close()\n",
    "        print('transformers saved at ' + self.transformers_file)\n",
    "        pass\n",
    "\n",
    "    def _load_transformers(self):\n",
    "        f = open(self.transformers_file, 'rb')\n",
    "        self.transformers = pickle.load(f)\n",
    "        f.close()\n",
    "        pass"
   ]
  },
  {
   "cell_type": "code",
   "execution_count": 2,
   "id": "ea6f8851",
   "metadata": {
    "ExecuteTime": {
     "end_time": "2021-12-15T19:34:16.141097Z",
     "start_time": "2021-12-15T19:34:16.126407Z"
    }
   },
   "outputs": [],
   "source": [
    "import os\n",
    "from tensorflow.keras.models import load_model\n",
    "\n",
    "modelName = \"final_model\"\n",
    "model_path = os.path.join(\".\", modelName)\n",
    "\n",
    "def saveModel(model, model_path): \n",
    "    try:\n",
    "        os.makedirs(model_path)\n",
    "    except OSError:\n",
    "        print(\"Directory {dir:s} already exists, files will be over-written.\".format(dir=model_path))\n",
    "        \n",
    "    # Save JSON config to disk\n",
    "    json_config = model.to_json()\n",
    "    with open(os.path.join(model_path, 'config.json'), 'w') as json_file:\n",
    "        json_file.write(json_config)\n",
    "    # Save weights to disk\n",
    "    model.save_weights(os.path.join(model_path, 'weights.h5'))\n",
    "    \n",
    "    print(\"Model saved in directory {dir:s}; create an archive of this directory and submit with your assignment.\".format(dir=model_path))\n",
    "    \n",
    "def loadModel(model_path):\n",
    "    # Reload the model from the 2 files we saved\n",
    "    with open(os.path.join(model_path, 'config.json')) as json_file:\n",
    "        json_config = json_file.read()\n",
    "    model = tf.keras.models.model_from_json(json_config)\n",
    "    model.load_weights(os.path.join(model_path, 'weights.h5'))\n",
    "    \n",
    "    return model\n",
    "\n",
    "def MyModel(test_dir, model_path):\n",
    "    # YOU MAY NOT change model after this statement !\n",
    "    model = loadModel(model_path)\n",
    "    \n",
    "    # It should run model to create an array of predictions; we initialize it to the empty array for convenience\n",
    "    predictions = []\n",
    "    \n",
    "    # We need to match your array of predictions with the examples you are predicting\n",
    "    # The array below (ids) should have a one-to-one correspondence and identify the example your are predicting\n",
    "    # For Bankruptcy: the Id column\n",
    "    # For Stock prediction: the date on which you are making a prediction\n",
    "    ids = []\n",
    "    \n",
    "    # YOUR CODE GOES HERE\n",
    "    all_stocks = ['AAPL', 'ADBE', 'CSCO', 'IBM', 'INTC','MSFT','NVDA',\n",
    "                  'SPY','XLB','XLE','XLF','XLI','XLK','XLP','XLU','XLV','XLY']\n",
    "    data = DataPipe(all_stocks)\n",
    "    X_test, y_test, ids_test = data.test(test_dir)\n",
    "    y_test_pred = model.predict(X_test)\n",
    "    \n",
    "    predictions = y_test_pred[-200:]\n",
    "    ids = ids_test[-200:]\n",
    "    \n",
    "    return predictions, ids\n",
    "\n",
    "# Assign to variable my_model the model that is your final model (the one  you will be evaluated on)\n",
    "#my_model = fm1_lstm_best.model # CHANGE None to your model !\n",
    "\n",
    "#saveModel(my_model, model_path)"
   ]
  },
  {
   "cell_type": "code",
   "execution_count": 3,
   "id": "250d6298",
   "metadata": {
    "ExecuteTime": {
     "end_time": "2021-12-15T19:34:17.091706Z",
     "start_time": "2021-12-15T19:34:16.142095Z"
    }
   },
   "outputs": [
    {
     "name": "stdout",
     "output_type": "stream",
     "text": [
      "Windowed X_test shape:  (187, 60, 188)\n",
      "Windowed y_test shape:  (187,)\n"
     ]
    }
   ],
   "source": [
    "holdout_dir = os.path.join(\".\", \"Data\", \"sample\")\n",
    "predicts, ids = MyModel(holdout_dir, model_path)"
   ]
  },
  {
   "cell_type": "code",
   "execution_count": 4,
   "id": "30c7088f",
   "metadata": {
    "ExecuteTime": {
     "end_time": "2021-12-15T19:34:17.232294Z",
     "start_time": "2021-12-15T19:34:17.092698Z"
    }
   },
   "outputs": [
    {
     "name": "stdout",
     "output_type": "stream",
     "text": [
      "weighted_mean_squared_error: 0.00110\n"
     ]
    },
    {
     "data": {
      "image/png": "[encoded data removed]",
      "text/plain": [
       "<Figure size 432x288 with 1 Axes>"
      ]
     },
     "metadata": {
      "needs_background": "light"
     },
     "output_type": "display_data"
    }
   ],
   "source": [
    "real = pd.read_csv(holdout_dir + '/AAPL.csv')\n",
    "real['return'] = real['Close'].pct_change()\n",
    "real['Dt'] = pd.to_datetime(real['Dt'])\n",
    "real = real.set_index('Dt')\n",
    "real_labels = real.loc[ids, 'return'].values\n",
    "_ = performance_measure(real_labels, predicts)\n",
    "_ = simulation(real_labels, predicts, ids)"
   ]
  },
  {
   "cell_type": "code",
   "execution_count": 5,
   "id": "e98f7ca3",
   "metadata": {
    "ExecuteTime": {
     "end_time": "2021-12-15T19:34:17.248255Z",
     "start_time": "2021-12-15T19:34:17.234288Z"
    }
   },
   "outputs": [
    {
     "name": "stdout",
     "output_type": "stream",
     "text": [
      "Done\n"
     ]
    }
   ],
   "source": [
    "print('Done')"
   ]
  }
 ],
 "metadata": {
  "kernelspec": {
   "display_name": "Python 3 (ipykernel)",
   "language": "python",
   "name": "python3"
  },
  "language_info": {
   "codemirror_mode": {
    "name": "ipython",
    "version": 3
   },
   "file_extension": ".py",
   "mimetype": "text/x-python",
   "name": "python",
   "nbconvert_exporter": "python",
   "pygments_lexer": "ipython3",
   "version": "3.8.8"
  },
  "toc": {
   "base_numbering": 1,
   "nav_menu": {},
   "number_sections": false,
   "sideBar": true,
   "skip_h1_title": false,
   "title_cell": "Table of Contents",
   "title_sidebar": "Contents",
   "toc_cell": false,
   "toc_position": {},
   "toc_section_display": true,
   "toc_window_display": false
  },
  "varInspector": {
   "cols": {
    "lenName": 16,
    "lenType": 16,
    "lenVar": 40
   },
   "kernels_config": {
    "python": {
     "delete_cmd_postfix": "",
     "delete_cmd_prefix": "del ",
     "library": "var_list.py",
     "varRefreshCmd": "print(var_dic_list())"
    },
    "r": {
     "delete_cmd_postfix": ") ",
     "delete_cmd_prefix": "rm(",
     "library": "var_list.r",
     "varRefreshCmd": "cat(var_dic_list()) "
    }
   },
   "types_to_exclude": [
    "module",
    "function",
    "builtin_function_or_method",
    "instance",
    "_Feature"
   ],
   "window_display": false
  }
 },
 "nbformat": 4,
 "nbformat_minor": 5
}
